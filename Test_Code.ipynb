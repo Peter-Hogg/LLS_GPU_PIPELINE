{
 "cells": [
  {
   "cell_type": "code",
   "execution_count": 1,
   "id": "cd5489dc",
   "metadata": {},
   "outputs": [],
   "source": [
    "import numpy as np\n",
    "import cupy as cu\n",
    "import cupyx.scipy.ndimage"
   ]
  },
  {
   "cell_type": "code",
   "execution_count": 2,
   "id": "3a0af48a",
   "metadata": {},
   "outputs": [],
   "source": [
    "x_gpu = cu.array([1,2,3])"
   ]
  },
  {
   "cell_type": "code",
   "execution_count": 3,
   "id": "f8b2a2b6",
   "metadata": {},
   "outputs": [],
   "source": [
    "x_cpu = np.array([1, 2, 3])\n",
    "\n",
    "l2_cpu = np.linalg.norm(x_cpu)"
   ]
  },
  {
   "cell_type": "code",
   "execution_count": 4,
   "id": "553236ae",
   "metadata": {},
   "outputs": [],
   "source": [
    "x_gpu = cu.array([1, 2, 3])\n",
    "\n",
    "l2_gpu = cu.linalg.norm(x_gpu)"
   ]
  },
  {
   "cell_type": "code",
   "execution_count": 5,
   "id": "254dbfcc",
   "metadata": {},
   "outputs": [],
   "source": [
    "import czifile\n",
    "_testFile = czifile.CziFile('sample_data/RBC_tiny.czi')"
   ]
  },
  {
   "cell_type": "code",
   "execution_count": 6,
   "id": "5b5a9393",
   "metadata": {},
   "outputs": [],
   "source": [
    "image  = _testFile.asarray()[0, 0, :,:,:,0]"
   ]
  },
  {
   "cell_type": "code",
   "execution_count": 7,
   "id": "774762a7",
   "metadata": {},
   "outputs": [],
   "source": [
    "import tifffile\n",
    "image = tifffile.imread('sample_data/RBC_lattice.tif')"
   ]
  },
  {
   "cell_type": "code",
   "execution_count": 13,
   "id": "aeaa6282",
   "metadata": {},
   "outputs": [
    {
     "name": "stdout",
     "output_type": "stream",
     "text": [
      "(150, 118, 209)\n"
     ]
    }
   ],
   "source": [
    "print(image.shape)\n",
    "depth, height, original_width = image.shape\n"
   ]
  },
  {
   "cell_type": "code",
   "execution_count": 37,
   "id": "472e5eb3",
   "metadata": {},
   "outputs": [],
   "source": [
    "\n",
    "def calculate_new_dimensions(original_width, depth, shear_factor, z_pixel_size):\n",
    "    # Calculate the new width by considering the maximum shear across the Z depth\n",
    "    # The depth in pixels multiplied by the Z pixel size gives the total physical depth\n",
    "    # Multiplying by the tangent of the excitation angle gives the total shear in microns\n",
    "    # Dividing by the Y pixel size converts that shear back into Y pixels\n",
    "    max_skew_in_pixels = (depth * z_pixel_size * cu.tan(angle_in_radians)) / y_pixel_size\n",
    "    new_width = int(original_width + cu.abs(max_skew_in_pixels))\n",
    "    return new_width\n",
    "\n",
    "\n",
    "# Physical dimensions of pixels\n",
    "y_pixel_size = 0.1449  # in microns\n",
    "z_pixel_size = 0.3    # in microns\n",
    "\n",
    "# Calculate the shear factor based on the physical dimensions\n",
    "# We want to know how many Z pixels correspond to one Y pixel\n",
    "shear_factor_per_pixel = y_pixel_size / z_pixel_size\n",
    "\n",
    "# Convert the excitation angle to radians and calculate the shear factor\n",
    "angle_in_radians = cu.radians(30)\n",
    "shear_factor = cu.tan(angle_in_radians) * shear_factor_per_pixel\n",
    "\n",
    "\n",
    "# Define the transformation matrix for de-skewing\n",
    "# This matrix represents a shear parallel to the Y-axis\n",
    "transformation_matrix = cu.array([[1, shear_factor.get(), 0],\n",
    "                                  [0, 1, 0]])\n",
    "\n",
    "\n",
    "# Define the transformation matrix for de-skewing each slice\n",
    "transformation_matrix = cu.array([[1, shear_factor.get(), 0],\n",
    "                                  [0, 1, 0]])\n",
    "\n",
    "depth, original_height, original_width = image.shape\n",
    "max_physical_skew = depth * z_pixel_size * cu.tan(angle_in_radians)\n",
    "max_skew_in_pixels = max_physical_skew / y_pixel_size\n",
    "new_width = int(original_width + cu.abs(max_skew_in_pixels))\n",
    "\n",
    "# Create a new volume to hold the de-skewed images\n",
    "deskeWed_volume = cu.zeros((depth, original_height, new_width), dtype=image.dtype)\n",
    "image = cu.asarray(image)\n",
    "for z in range(depth):\n",
    "    # Calculate the slice-specific shear factor based on the Z index\n",
    "    # Currently I don't think this is calculated correctly so I am using the skear_factor\n",
    "    slice_shear_factor = shear_factor * z* z_pixel_size\n",
    "\n",
    "    # Apply the 2D affine transformation to each slice along the Z-axis\n",
    "    transformation_matrix = cu.array([[1, shear_factor.get(), 0],\n",
    "                                  [0, 1, 0]])\n",
    "\n",
    "\n",
    "    # Apply the affine transformation using the upper 2x2 matrix for each slice\n",
    "    deskeWed_volume[z, :, :] = cupyx.scipy.ndimage.affine_transform(\n",
    "        image[z, :, :],\n",
    "        transformation_matrix[:2, :2],\n",
    "        offset=0,\n",
    "        output_shape=(original_height, new_width),\n",
    "        order=1,\n",
    "        mode='constant',\n",
    "        cval=0.0)"
   ]
  },
  {
   "cell_type": "code",
   "execution_count": 38,
   "id": "0d445c64",
   "metadata": {},
   "outputs": [
    {
     "name": "stdout",
     "output_type": "stream",
     "text": [
      "(150, 118, 388)\n",
      "(150, 118, 209)\n"
     ]
    }
   ],
   "source": [
    "print(deskeWed_volume.shape)\n",
    "print(image.shape)\n"
   ]
  },
  {
   "cell_type": "code",
   "execution_count": 16,
   "id": "7c011356",
   "metadata": {},
   "outputs": [],
   "source": [
    "def rotate_volume(deskeWed_volume, angle_of_rotation):\n",
    "    rotated_volume = cu.zeros_like(deskeWed_volume)\n",
    "    \n",
    "    # Rotate each slice of the volume\n",
    "    for z in range(deskeWed_volume.shape[0]):\n",
    "        # Rotate the 2D slice around the Z-axis (the axis perpendicular to the XY plane)\n",
    "        rotated_volume[z, :, :] = cupyx.scipy.ndimage.rotate(\n",
    "            deskeWed_volume[z, :, :],\n",
    "            angle_of_rotation,\n",
    "            axes=(1, 0),  # This rotates the slice in the XY plane\n",
    "            reshape=False,\n",
    "            order=1,\n",
    "            mode='nearest',\n",
    "            cval=0.0\n",
    "        )\n",
    "    \n",
    "    return rotated_volume\n",
    "\n",
    "# Apply the rotation to the de-skewed volume\n",
    "angle_of_rotation = 90  # or whatever angle is needed to align with the stage coordinates\n",
    "rotated_volume = rotate_volume(deskeWed_volume, angle_of_rotation)"
   ]
  },
  {
   "cell_type": "code",
   "execution_count": 39,
   "id": "66be8d4d",
   "metadata": {},
   "outputs": [
    {
     "data": {
      "text/plain": [
       "<Image layer 'Image' at 0x7f2bcbf36f50>"
      ]
     },
     "execution_count": 39,
     "metadata": {},
     "output_type": "execute_result"
    }
   ],
   "source": [
    "import napari\n",
    "views = napari.Viewer()\n",
    "\n",
    "views.add_image(deskeWed_volume.get(), scale=(.3, .15,.15), name='deskewed')\n",
    "views.add_image(image.get(), scale=(.3, .15,.15))"
   ]
  },
  {
   "cell_type": "code",
   "execution_count": 110,
   "id": "15013590",
   "metadata": {},
   "outputs": [
    {
     "data": {
      "text/plain": [
       "<Image layer 'Image [1]' at 0x7f57f4345810>"
      ]
     },
     "execution_count": 110,
     "metadata": {},
     "output_type": "execute_result"
    }
   ],
   "source": [
    "views.add_image(rotated_volume.get(), scale=(.3, .15,.15))"
   ]
  },
  {
   "cell_type": "code",
   "execution_count": 85,
   "id": "c419d4d7",
   "metadata": {},
   "outputs": [
    {
     "data": {
      "text/plain": [
       "<Image layer 'image2' at 0x7f58146899f0>"
      ]
     },
     "execution_count": 85,
     "metadata": {},
     "output_type": "execute_result"
    }
   ],
   "source": [
    "image2= tifffile.imread('sample_data/RBC_lattice.tif')\n",
    "views.add_image(image2, scale=(.3, .15,.15))"
   ]
  },
  {
   "cell_type": "code",
   "execution_count": 25,
   "id": "c36aed79",
   "metadata": {},
   "outputs": [],
   "source": [
    "image_volume = image\n",
    "angle_in_degrees = 30\n",
    "y_pixel_size = 0.15\n",
    "z_pixel_size = 0.3\n",
    "\n",
    "depth, height, original_width = image_volume.shape\n",
    "\n",
    "# Calculate the shear factor based on the excitation angle and pixel sizes\n",
    "angle_in_radians = cu.radians(angle_in_degrees)\n",
    "shear_factor = cu.tan(angle_in_radians) * (y_pixel_size / z_pixel_size)\n",
    "\n",
    "# Calculate the new width to accommodate the shearing\n",
    "max_skew_in_pixels = (depth - 1) * cu.tan(angle_in_radians) * (z_pixel_size / y_pixel_size)\n",
    "new_width = int(original_width + cu.abs(max_skew_in_pixels))\n",
    "\n",
    "# Create a new volume to hold the de-skewed images\n",
    "deskeWed_volume = cu.zeros((depth, height, new_width), dtype=image_volume.dtype)\n",
    "\n",
    "# Define the 4x4 affine transformation matrix for 3D shearing in y over z\n",
    "transformation_matrix = cu.array([\n",
    "    [1, 0, 0, 0],\n",
    "    [shear_factor.get(), 1, 0, 0],\n",
    "    [0, 0, 1, 0],\n",
    "    [0, 0, 0, 1]\n",
    "])\n",
    "\n",
    "# Perform the affine transformation on the entire volume\n",
    "deskeWed_volume = cupyx.scipy.ndimage.affine_transform(\n",
    "    image_volume,\n",
    "    transformation_matrix,\n",
    "    offset=0,\n",
    "    output_shape=(depth, height, new_width),\n",
    "    order=1,\n",
    "    mode='constant',\n",
    "    cval=0.0\n",
    ")\n",
    "\n"
   ]
  },
  {
   "cell_type": "code",
   "execution_count": 26,
   "id": "ab0de36a",
   "metadata": {},
   "outputs": [
    {
     "data": {
      "text/plain": [
       "<Image layer 'Image [1]' at 0x7f2bac0bb040>"
      ]
     },
     "execution_count": 26,
     "metadata": {},
     "output_type": "execute_result"
    }
   ],
   "source": [
    "import napari\n",
    "views = napari.Viewer()\n",
    "views.add_image(image_volume.get(), scale=(.3, .15,.15))\n",
    "views.add_image(deskeWed_volume.get(), scale=(.3, .15,.15))"
   ]
  },
  {
   "cell_type": "code",
   "execution_count": null,
   "id": "e166939c",
   "metadata": {},
   "outputs": [],
   "source": []
  }
 ],
 "metadata": {
  "kernelspec": {
   "display_name": "Python 3 (ipykernel)",
   "language": "python",
   "name": "python3"
  },
  "language_info": {
   "codemirror_mode": {
    "name": "ipython",
    "version": 3
   },
   "file_extension": ".py",
   "mimetype": "text/x-python",
   "name": "python",
   "nbconvert_exporter": "python",
   "pygments_lexer": "ipython3",
   "version": "3.10.12"
  }
 },
 "nbformat": 4,
 "nbformat_minor": 5
}
