{
 "cells": [
  {
   "cell_type": "code",
   "execution_count": 1,
   "id": "cd5489dc",
   "metadata": {},
   "outputs": [],
   "source": [
    "import numpy as np\n",
    "import cupy as cu\n",
    "import cupyx.scipy.ndimage\n",
    "import json\n",
    "import matplotlib.pyplot as plt\n",
    "import zarr"
   ]
  },
  {
   "cell_type": "code",
   "execution_count": 2,
   "id": "254dbfcc",
   "metadata": {},
   "outputs": [],
   "source": [
    "import czifile\n",
    "_testFile = czifile.CziFile('sample_data/RBC_full_time_series.czi')\n"
   ]
  },
  {
   "cell_type": "code",
   "execution_count": 3,
   "id": "a16f9918",
   "metadata": {
    "scrolled": false
   },
   "outputs": [],
   "source": [
    "# Extract raw metadata\n",
    "raw_metadata = _testFile.metadata()\n",
    "\n",
    "# If you want the metadata in dictionary form (easier to navigate), you can use:\n",
    "metadata_dict = _testFile.metadata(raw=False)\n",
    "channels_info = metadata_dict['ImageDocument']['Metadata']['Information']['Image']['Dimensions']['Channels']\n"
   ]
  },
  {
   "cell_type": "code",
   "execution_count": 4,
   "id": "9e4bdd68",
   "metadata": {
    "scrolled": false
   },
   "outputs": [],
   "source": [
    "#metadata_dict"
   ]
  },
  {
   "cell_type": "code",
   "execution_count": null,
   "id": "930377f6",
   "metadata": {
    "scrolled": true
   },
   "outputs": [],
   "source": []
  },
  {
   "cell_type": "code",
   "execution_count": null,
   "id": "f973c475",
   "metadata": {},
   "outputs": [],
   "source": []
  },
  {
   "cell_type": "code",
   "execution_count": 5,
   "id": "5b5a9393",
   "metadata": {},
   "outputs": [],
   "source": [
    "image  = _testFile.asarray()[0, 0, :,:,:,0]"
   ]
  },
  {
   "cell_type": "code",
   "execution_count": 6,
   "id": "774762a7",
   "metadata": {},
   "outputs": [
    {
     "name": "stdout",
     "output_type": "stream",
     "text": [
      "(834, 300, 2048)\n"
     ]
    }
   ],
   "source": [
    "#import tifffile\n",
    "#image = tifffile.imread('sample_data/RBC_lattice.tif')\n",
    "print(image.shape)"
   ]
  },
  {
   "cell_type": "code",
   "execution_count": 7,
   "id": "aeaa6282",
   "metadata": {},
   "outputs": [],
   "source": [
    "depth, height, original_width = image.shape\n"
   ]
  },
  {
   "cell_type": "code",
   "execution_count": null,
   "id": "ca6aacfa",
   "metadata": {},
   "outputs": [],
   "source": []
  },
  {
   "cell_type": "code",
   "execution_count": null,
   "id": "bf3284ed",
   "metadata": {},
   "outputs": [],
   "source": []
  },
  {
   "cell_type": "code",
   "execution_count": 10,
   "id": "b0d43540",
   "metadata": {
    "scrolled": false
   },
   "outputs": [
    {
     "name": "stdout",
     "output_type": "stream",
     "text": [
      "CPU times: user 17.4 s, sys: 1.85 s, total: 19.2 s\n",
      "Wall time: 10.4 s\n"
     ]
    }
   ],
   "source": [
    "%%time\n",
    "import cupy as cp\n",
    "import cupyx.scipy.ndimage\n",
    "import numpy as np\n",
    "\n",
    "# Constants\n",
    "voxel_size_x_in_microns = 0.1449922  # Microns\n",
    "voxel_size_y_in_microns = 0.1449922  # Microns\n",
    "voxel_size_z_in_microns = 0.3        # Microns\n",
    "deskewing_angle_in_degrees = 30       # Angle in degrees\n",
    "angle_in_radians = np.radians(deskewing_angle_in_degrees)\n",
    "\n",
    "# Image dimensions (replace with actual dimensions of your image stack)\n",
    "depth, original_height, original_width = image.shape\n",
    "\n",
    "# Function to calculate translation in X based on Z-index\n",
    "def calculate_translation_in_X(z, angle_in_radians, voxel_size_z_in_microns, voxel_size_x_in_microns):\n",
    "    # Calculate the physical offset in the X direction for the current Z index\n",
    "    physical_offset_x = z * voxel_size_z_in_microns * np.tan(angle_in_radians)\n",
    "    # Convert the physical offset to pixels in the X dimension\n",
    "    translation_in_X = physical_offset_x / voxel_size_x_in_microns\n",
    "    return translation_in_X\n",
    "\n",
    "# Calculate the maximum translation in X for the last slice to determine the new width\n",
    "max_translation_in_X = calculate_translation_in_X(depth - 1, angle_in_radians, voxel_size_z_in_microns, voxel_size_x_in_microns)\n",
    "new_width = int(original_height + np.ceil(max_translation_in_X))\n",
    "\n",
    "# Initialize the de-skewed volume with the new width\n",
    "#deskewed_volume = cp.zeros((depth, new_width, original_width), dtype=cp.float32)  # Ensure dtype matches your image :: dtype=deskewed_volume.dtype\n",
    "zarrOutput = zarr.open('deskewed_volume.zarr', mode='w', shape=(depth, new_width, original_width), chunks=(1, new_width, original_width))\n",
    "\n",
    "\n",
    "\n",
    "# Deskewing process\n",
    "\n",
    "for z in range(depth):\n",
    "    # Calculate translation in X for the current slice based on the Z-index\n",
    "    translation_in_X = calculate_translation_in_X(z, angle_in_radians, voxel_size_z_in_microns, voxel_size_x_in_microns)\n",
    "    \n",
    "    # Define the transformation matrix for this slice with the translation factor in the X direction\n",
    "    transformation_matrix = cp.array([\n",
    "        [1, 0, 0],\n",
    "        [0, 1, 0],\n",
    "        [translation_in_X, 0, 1]  # Translation in the X direction\n",
    "    ])\n",
    "    \n",
    "       # Calculate the new X index range after the shift\n",
    "    start_x_index = int(np.ceil(translation_in_X))\n",
    "    end_x_index = start_x_index + original_height\n",
    "    \n",
    "    # Place the shifted image into the de-skewed volume\n",
    "    #deskewed_volume[z, start_x_index:end_x_index, :] = cupyx.scipy.ndimage.shift(cp.asarray(image[z, :, :]), [translation_in_X, 0]) \n",
    "    cupySlice = cp.zeros((new_width, original_width), dtype=cp.float32)\n",
    "    cupySlice[start_x_index:end_x_index, :] = cupyx.scipy.ndimage.shift(cp.asarray(image[z, :, :]),\n",
    "                                                                        [translation_in_X, 0]) \n",
    "\n",
    "    #numpy_slice = cp.asnumpy(deskewed_volume[z])\n",
    "    zarrOutput[z] = cp.asnumpy(cupySlice.get())\n"
   ]
  },
  {
   "cell_type": "code",
   "execution_count": null,
   "id": "4cc3e362",
   "metadata": {},
   "outputs": [],
   "source": [
    "import tifffile\n",
    "tifffile.imwrite('Output.tif', zarrOutput)"
   ]
  },
  {
   "cell_type": "code",
   "execution_count": null,
   "id": "66be8d4d",
   "metadata": {},
   "outputs": [],
   "source": [
    "import napari\n",
    "views = napari.Viewer()\n",
    "\n",
    "views.add_image(deskewed_volume.get(), scale=(.3, .15,.15), name='deskewed')\n",
    "views.add_image(image, scale=(.3, .15,.15))"
   ]
  },
  {
   "cell_type": "code",
   "execution_count": null,
   "id": "15013590",
   "metadata": {},
   "outputs": [],
   "source": [
    "views.add_image(rotated_volume.get(), scale=(.3, .15,.15))"
   ]
  },
  {
   "cell_type": "code",
   "execution_count": null,
   "id": "c419d4d7",
   "metadata": {},
   "outputs": [],
   "source": [
    "image2= tifffile.imread('sample_data/RBC_lattice.tif')\n",
    "views.add_image(image2, scale=(.3, .15,.15))"
   ]
  },
  {
   "cell_type": "code",
   "execution_count": null,
   "id": "c36aed79",
   "metadata": {},
   "outputs": [],
   "source": [
    "image_volume = image\n",
    "angle_in_degrees = 30\n",
    "y_pixel_size = 0.15\n",
    "z_pixel_size = 0.3\n",
    "\n",
    "depth, height, original_width = image_volume.shape\n",
    "\n",
    "# Calculate the shear factor based on the excitation angle and pixel sizes\n",
    "angle_in_radians = cu.radians(angle_in_degrees)\n",
    "shear_factor = cu.tan(angle_in_radians) * (y_pixel_size / z_pixel_size)\n",
    "\n",
    "# Calculate the new width to accommodate the shearing\n",
    "max_skew_in_pixels = (depth - 1) * cu.tan(angle_in_radians) * (z_pixel_size / y_pixel_size)\n",
    "new_width = int(original_width + cu.abs(max_skew_in_pixels))\n",
    "\n",
    "# Create a new volume to hold the de-skewed images\n",
    "deskeWed_volume = cu.zeros((depth, height, new_width), dtype=image_volume.dtype)\n",
    "\n",
    "# Define the 4x4 affine transformation matrix for 3D shearing in y over z\n",
    "transformation_matrix = cu.array([\n",
    "    [1, 0, 0, 0],\n",
    "    [shear_factor.get(), 1, 0, 0],\n",
    "    [0, 0, 1, 0],\n",
    "    [0, 0, 0, 1]\n",
    "])\n",
    "\n",
    "# Perform the affine transformation on the entire volume\n",
    "deskeWed_volume = cupyx.scipy.ndimage.affine_transform(\n",
    "    image_volume,\n",
    "    transformation_matrix,\n",
    "    offset=0,\n",
    "    output_shape=(depth, height, new_width),\n",
    "    order=1,\n",
    "    mode='constant',\n",
    "    cval=0.0\n",
    ")\n",
    "\n"
   ]
  },
  {
   "cell_type": "code",
   "execution_count": null,
   "id": "ab0de36a",
   "metadata": {},
   "outputs": [],
   "source": [
    "import napari\n",
    "views = napari.Viewer()\n",
    "views.add_image(image_volume.get(), scale=(.3, .15,.15))\n",
    "views.add_image(deskeWed_volume.get(), scale=(.3, .15,.15))"
   ]
  },
  {
   "cell_type": "code",
   "execution_count": null,
   "id": "e166939c",
   "metadata": {},
   "outputs": [],
   "source": []
  }
 ],
 "metadata": {
  "kernelspec": {
   "display_name": "Python 3 (ipykernel)",
   "language": "python",
   "name": "python3"
  },
  "language_info": {
   "codemirror_mode": {
    "name": "ipython",
    "version": 3
   },
   "file_extension": ".py",
   "mimetype": "text/x-python",
   "name": "python",
   "nbconvert_exporter": "python",
   "pygments_lexer": "ipython3",
   "version": "3.10.12"
  }
 },
 "nbformat": 4,
 "nbformat_minor": 5
}
