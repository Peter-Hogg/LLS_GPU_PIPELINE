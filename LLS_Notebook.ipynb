{
 "cells": [
  {
   "cell_type": "code",
   "execution_count": 1,
   "id": "ff6ff514",
   "metadata": {},
   "outputs": [],
   "source": [
    "import czifile\n",
    "from skimage import io"
   ]
  },
  {
   "cell_type": "code",
   "execution_count": 2,
   "id": "412723e3",
   "metadata": {
    "scrolled": true
   },
   "outputs": [
    {
     "name": "stdout",
     "output_type": "stream",
     "text": [
      "Channel:0\n",
      "488\n"
     ]
    }
   ],
   "source": [
    "path = 'RBC_tiny.czi'\n",
    "\n",
    "with czifile.CziFile(path) as czi:\n",
    "    \n",
    "    \n",
    "    # Extract raw metadata\n",
    "    raw_metadata = czi.metadata()\n",
    "\n",
    "    # If you want the metadata in dictionary form (easier to navigate), you can use:\n",
    "    metadata_dict = czi.metadata(raw=False)\n",
    "    channels_info = metadata_dict['ImageDocument']['Metadata']['Information']['Image']['Dimensions']['Channels']\n",
    "    \n",
    "print(channels_info['Channel']['Id'])\n",
    "print(channels_info['Channel']['ExcitationWavelength'])"
   ]
  },
  {
   "cell_type": "code",
   "execution_count": 3,
   "id": "be2b0771",
   "metadata": {},
   "outputs": [],
   "source": [
    "from skimage.io import imread\n",
    "import pyclesperanto_prototype as cle\n",
    "import numpy as np"
   ]
  },
  {
   "cell_type": "code",
   "execution_count": 4,
   "id": "ec1030bb",
   "metadata": {},
   "outputs": [
    {
     "name": "stdout",
     "output_type": "stream",
     "text": [
      "Shape of original image (150, 118, 209)\n"
     ]
    }
   ],
   "source": [
    "#Read lattice file\n",
    "rbc = imread(\"sample_data/RBC_lattice.tif\")\n",
    "voxel_size_x_in_microns = 0.1449922\n",
    "voxel_size_y_in_microns = 0.1449922\n",
    "voxel_size_z_in_microns = 0.3\n",
    "\n",
    "deskewing_angle_in_degrees = 30\n",
    "\n",
    "print(\"Shape of original image\", rbc.shape )"
   ]
  },
  {
   "cell_type": "code",
   "execution_count": 5,
   "id": "7a64c391",
   "metadata": {},
   "outputs": [
    {
     "name": "stdout",
     "output_type": "stream",
     "text": [
      "Shape of deskewed image (59, 413, 209)\n"
     ]
    },
    {
     "name": "stderr",
     "output_type": "stream",
     "text": [
      "4 warnings generated.\n"
     ]
    }
   ],
   "source": [
    "#Perform deskewing on rbc image  \n",
    "deskewed = cle.deskew_y(rbc, \n",
    "                        angle_in_degrees=deskewing_angle_in_degrees, \n",
    "                        voxel_size_x=voxel_size_x_in_microns, \n",
    "                        voxel_size_y=voxel_size_y_in_microns, \n",
    "                        voxel_size_z=voxel_size_z_in_microns)\n",
    "\n",
    "print(\"Shape of deskewed image\",deskewed.shape)"
   ]
  },
  {
   "cell_type": "code",
   "execution_count": 6,
   "id": "56b10f27",
   "metadata": {},
   "outputs": [
    {
     "data": {
      "text/plain": [
       "<Image layer 'rbc' at 0x7fc4c29eb730>"
      ]
     },
     "execution_count": 6,
     "metadata": {},
     "output_type": "execute_result"
    }
   ],
   "source": [
    "import napari\n",
    "results = napari.Viewer()\n",
    "\n",
    "results.add_image(rbc)"
   ]
  },
  {
   "cell_type": "code",
   "execution_count": null,
   "id": "9e9332df",
   "metadata": {},
   "outputs": [],
   "source": [
    "# lls_dd imports\n",
    "from lls_dd.transform_helpers import *\n",
    "from lls_dd.transforms import *\n",
    "## Depending on whether you want to use ndimage or gputools, uncomment one of the following\n",
    "## two lines\n",
    "#from scipy.ndimage import affine_transform\n",
    "from lls_dd.gputools_wrapper import affine_transform_gputools as affine_transform\n",
    "\n",
    "deskewed = affine_transform(vol, np.linalg.inv(skew), output_shape=output_shape,order=1)\n",
    "\n"
   ]
  },
  {
   "cell_type": "code",
   "execution_count": 6,
   "id": "fabe06f2",
   "metadata": {},
   "outputs": [
    {
     "name": "stderr",
     "output_type": "stream",
     "text": [
      "/tmp/ipykernel_108150/3539752896.py:1: UserWarning: \n",
      "Unable to find library 'lidbcudaDecon'\n",
      "Please try `conda install -c conda-forge cudadecon`.\n",
      "\n",
      "Most functionality will fail!\n",
      "\n",
      "  from pycudadecon import affineGPU\n"
     ]
    }
   ],
   "source": [
    "from pycudadecon import affineGPU\n"
   ]
  },
  {
   "cell_type": "code",
   "execution_count": 7,
   "id": "c5208ca1",
   "metadata": {},
   "outputs": [
    {
     "ename": "FileNotFoundError",
     "evalue": "Unable to find library 'lidbcudaDecon'\nPlease try `conda install -c conda-forge cudadecon`.",
     "output_type": "error",
     "traceback": [
      "\u001b[0;31m---------------------------------------------------------------------------\u001b[0m",
      "\u001b[0;31mFileNotFoundError\u001b[0m                         Traceback (most recent call last)",
      "\u001b[0;32m/tmp/ipykernel_108150/3829787552.py\u001b[0m in \u001b[0;36m<module>\u001b[0;34m\u001b[0m\n\u001b[1;32m     12\u001b[0m               [0, 0, 0, 1]])\n\u001b[1;32m     13\u001b[0m \u001b[0;34m\u001b[0m\u001b[0m\n\u001b[0;32m---> 14\u001b[0;31m \u001b[0mrotated\u001b[0m \u001b[0;34m=\u001b[0m \u001b[0maffineGPU\u001b[0m\u001b[0;34m(\u001b[0m\u001b[0mrbc\u001b[0m\u001b[0;34m,\u001b[0m \u001b[0mT\u001b[0m\u001b[0;34m,\u001b[0m \u001b[0mvoxel_size_xyz\u001b[0m\u001b[0;34m)\u001b[0m\u001b[0;34m\u001b[0m\u001b[0;34m\u001b[0m\u001b[0m\n\u001b[0m",
      "\u001b[0;32m~/.local/lib/python3.10/site-packages/pycudadecon/affine.py\u001b[0m in \u001b[0;36maffineGPU\u001b[0;34m(im, tmat, dzyx)\u001b[0m\n\u001b[1;32m    168\u001b[0m         \u001b[0mdx\u001b[0m\u001b[0;34m,\u001b[0m \u001b[0mdy\u001b[0m\u001b[0;34m,\u001b[0m \u001b[0mdz\u001b[0m \u001b[0;34m=\u001b[0m \u001b[0;34m(\u001b[0m\u001b[0mfloat\u001b[0m\u001b[0;34m(\u001b[0m\u001b[0mi\u001b[0m\u001b[0;34m)\u001b[0m \u001b[0;32mfor\u001b[0m \u001b[0mi\u001b[0m \u001b[0;32min\u001b[0m \u001b[0mdzyx\u001b[0m\u001b[0;34m[\u001b[0m\u001b[0;34m:\u001b[0m\u001b[0;34m:\u001b[0m\u001b[0;34m-\u001b[0m\u001b[0;36m1\u001b[0m\u001b[0;34m]\u001b[0m\u001b[0;34m)\u001b[0m\u001b[0;34m\u001b[0m\u001b[0;34m\u001b[0m\u001b[0m\n\u001b[1;32m    169\u001b[0m         \u001b[0;31m# note, dzyx coordinate order is flipped when handing to Affine_interface_RA\u001b[0m\u001b[0;34m\u001b[0m\u001b[0;34m\u001b[0m\u001b[0m\n\u001b[0;32m--> 170\u001b[0;31m         \u001b[0mlib\u001b[0m\u001b[0;34m.\u001b[0m\u001b[0mAffine_interface_RA\u001b[0m\u001b[0;34m(\u001b[0m\u001b[0mim\u001b[0m\u001b[0;34m,\u001b[0m \u001b[0mnx\u001b[0m\u001b[0;34m,\u001b[0m \u001b[0mny\u001b[0m\u001b[0;34m,\u001b[0m \u001b[0mnz\u001b[0m\u001b[0;34m,\u001b[0m \u001b[0mdx\u001b[0m\u001b[0;34m,\u001b[0m \u001b[0mdy\u001b[0m\u001b[0;34m,\u001b[0m \u001b[0mdz\u001b[0m\u001b[0;34m,\u001b[0m \u001b[0mresult\u001b[0m\u001b[0;34m,\u001b[0m \u001b[0mtmat\u001b[0m\u001b[0;34m)\u001b[0m\u001b[0;34m\u001b[0m\u001b[0;34m\u001b[0m\u001b[0m\n\u001b[0m\u001b[1;32m    171\u001b[0m     \u001b[0;32melse\u001b[0m\u001b[0;34m:\u001b[0m\u001b[0;34m\u001b[0m\u001b[0;34m\u001b[0m\u001b[0m\n\u001b[1;32m    172\u001b[0m         \u001b[0mlib\u001b[0m\u001b[0;34m.\u001b[0m\u001b[0mAffine_interface\u001b[0m\u001b[0;34m(\u001b[0m\u001b[0mim\u001b[0m\u001b[0;34m,\u001b[0m \u001b[0mnx\u001b[0m\u001b[0;34m,\u001b[0m \u001b[0mny\u001b[0m\u001b[0;34m,\u001b[0m \u001b[0mnz\u001b[0m\u001b[0;34m,\u001b[0m \u001b[0mresult\u001b[0m\u001b[0;34m,\u001b[0m \u001b[0mtmat\u001b[0m\u001b[0;34m)\u001b[0m\u001b[0;34m\u001b[0m\u001b[0;34m\u001b[0m\u001b[0m\n",
      "\u001b[0;32m~/.local/lib/python3.10/site-packages/pycudadecon/__init__.py\u001b[0m in \u001b[0;36m__getattr__\u001b[0;34m(self, name)\u001b[0m\n\u001b[1;32m     25\u001b[0m     \u001b[0;32mclass\u001b[0m \u001b[0m_stub\u001b[0m\u001b[0;34m:\u001b[0m\u001b[0;34m\u001b[0m\u001b[0;34m\u001b[0m\u001b[0m\n\u001b[1;32m     26\u001b[0m         \u001b[0;32mdef\u001b[0m \u001b[0m__getattr__\u001b[0m\u001b[0;34m(\u001b[0m\u001b[0mself\u001b[0m\u001b[0;34m,\u001b[0m \u001b[0mname\u001b[0m\u001b[0;34m)\u001b[0m\u001b[0;34m:\u001b[0m\u001b[0;34m\u001b[0m\u001b[0;34m\u001b[0m\u001b[0m\n\u001b[0;32m---> 27\u001b[0;31m             \u001b[0;32mraise\u001b[0m \u001b[0mt\u001b[0m\u001b[0;34m\u001b[0m\u001b[0;34m\u001b[0m\u001b[0m\n\u001b[0m\u001b[1;32m     28\u001b[0m \u001b[0;34m\u001b[0m\u001b[0m\n\u001b[1;32m     29\u001b[0m     \u001b[0mlib\u001b[0m \u001b[0;34m=\u001b[0m \u001b[0m_stub\u001b[0m\u001b[0;34m(\u001b[0m\u001b[0;34m)\u001b[0m  \u001b[0;31m# type: ignore\u001b[0m\u001b[0;34m\u001b[0m\u001b[0;34m\u001b[0m\u001b[0m\n",
      "\u001b[0;32m~/.local/lib/python3.10/site-packages/pycudadecon/__init__.py\u001b[0m in \u001b[0;36m<module>\u001b[0;34m\u001b[0m\n\u001b[1;32m     16\u001b[0m \u001b[0;34m\u001b[0m\u001b[0m\n\u001b[1;32m     17\u001b[0m \u001b[0;32mtry\u001b[0m\u001b[0;34m:\u001b[0m\u001b[0;34m\u001b[0m\u001b[0;34m\u001b[0m\u001b[0m\n\u001b[0;32m---> 18\u001b[0;31m     \u001b[0;32mfrom\u001b[0m \u001b[0;34m.\u001b[0m \u001b[0;32mimport\u001b[0m \u001b[0m_libwrap\u001b[0m \u001b[0;32mas\u001b[0m \u001b[0mlib\u001b[0m\u001b[0;34m\u001b[0m\u001b[0;34m\u001b[0m\u001b[0m\n\u001b[0m\u001b[1;32m     19\u001b[0m \u001b[0;32mexcept\u001b[0m \u001b[0mFileNotFoundError\u001b[0m \u001b[0;32mas\u001b[0m \u001b[0me\u001b[0m\u001b[0;34m:\u001b[0m\u001b[0;34m\u001b[0m\u001b[0;34m\u001b[0m\u001b[0m\n\u001b[1;32m     20\u001b[0m     \u001b[0;32mimport\u001b[0m \u001b[0mwarnings\u001b[0m\u001b[0;34m\u001b[0m\u001b[0;34m\u001b[0m\u001b[0m\n",
      "\u001b[0;32m~/.local/lib/python3.10/site-packages/pycudadecon/_libwrap.py\u001b[0m in \u001b[0;36m<module>\u001b[0;34m\u001b[0m\n\u001b[1;32m     24\u001b[0m     \u001b[0mlib\u001b[0m \u001b[0;34m=\u001b[0m \u001b[0mLibrary\u001b[0m\u001b[0;34m(\u001b[0m\u001b[0;34m\"libcudaDecon\"\u001b[0m\u001b[0;34m,\u001b[0m \u001b[0mversion\u001b[0m\u001b[0;34m=\u001b[0m\u001b[0m_cudadecon_version\u001b[0m\u001b[0;34m)\u001b[0m\u001b[0;34m\u001b[0m\u001b[0;34m\u001b[0m\u001b[0m\n\u001b[1;32m     25\u001b[0m \u001b[0;32mexcept\u001b[0m \u001b[0mFileNotFoundError\u001b[0m\u001b[0;34m:\u001b[0m\u001b[0;34m\u001b[0m\u001b[0;34m\u001b[0m\u001b[0m\n\u001b[0;32m---> 26\u001b[0;31m     raise FileNotFoundError(\n\u001b[0m\u001b[1;32m     27\u001b[0m         \u001b[0;34m\"Unable to find library 'lidbcudaDecon'\\n\"\u001b[0m\u001b[0;34m\u001b[0m\u001b[0;34m\u001b[0m\u001b[0m\n\u001b[1;32m     28\u001b[0m         \u001b[0;34m\"Please try `conda install -c conda-forge cudadecon`.\"\u001b[0m\u001b[0;34m\u001b[0m\u001b[0;34m\u001b[0m\u001b[0m\n",
      "\u001b[0;31mFileNotFoundError\u001b[0m: Unable to find library 'lidbcudaDecon'\nPlease try `conda install -c conda-forge cudadecon`."
     ]
    }
   ],
   "source": [
    "nx, ny, nz = rbc.shape \n",
    "voxel_size_xyz=(voxel_size_x_in_microns, \n",
    "                voxel_size_y_in_microns, \n",
    "                voxel_size_z_in_microns)\n",
    "\n",
    "T = np.array([[1, 0, 0, nx],\n",
    "\n",
    "              [0, 1, 0, ny],\n",
    "\n",
    "              [0, 0, 1, nz],\n",
    "\n",
    "              [0, 0, 0, 1]])\n",
    "\n",
    "rotated = affineGPU(rbc, T, voxel_size_xyz)\n"
   ]
  },
  {
   "cell_type": "code",
   "execution_count": null,
   "id": "d2af9133",
   "metadata": {},
   "outputs": [],
   "source": []
  }
 ],
 "metadata": {
  "kernelspec": {
   "display_name": "Python 3 (ipykernel)",
   "language": "python",
   "name": "python3"
  },
  "language_info": {
   "codemirror_mode": {
    "name": "ipython",
    "version": 3
   },
   "file_extension": ".py",
   "mimetype": "text/x-python",
   "name": "python",
   "nbconvert_exporter": "python",
   "pygments_lexer": "ipython3",
   "version": "3.10.12"
  }
 },
 "nbformat": 4,
 "nbformat_minor": 5
}
