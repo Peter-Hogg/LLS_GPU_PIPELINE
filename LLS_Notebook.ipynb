{
 "cells": [
  {
   "cell_type": "code",
   "execution_count": 1,
   "id": "ff6ff514",
   "metadata": {},
   "outputs": [],
   "source": [
    "import czifile\n",
    "from skimage import io"
   ]
  },
  {
   "cell_type": "code",
   "execution_count": 31,
   "id": "412723e3",
   "metadata": {
    "scrolled": true
   },
   "outputs": [
    {
     "name": "stdout",
     "output_type": "stream",
     "text": [
      "Channel:0\n",
      "488\n"
     ]
    }
   ],
   "source": [
    "path = 'RBC_tiny.czi'\n",
    "\n",
    "with czifile.CziFile(path) as czi:\n",
    "    \n",
    "    \n",
    "    # Extract raw metadata\n",
    "    raw_metadata = czi.metadata()\n",
    "\n",
    "    # If you want the metadata in dictionary form (easier to navigate), you can use:\n",
    "    metadata_dict = czi.metadata(raw=False)\n",
    "    channels_info = metadata_dict['ImageDocument']['Metadata']['Information']['Image']['Dimensions']['Channels']\n",
    "    \n",
    "print(channels_info['Channel']['Id'])\n",
    "print(channels_info['Channel']['ExcitationWavelength'])"
   ]
  },
  {
   "cell_type": "code",
   "execution_count": null,
   "id": "be2b0771",
   "metadata": {},
   "outputs": [],
   "source": []
  },
  {
   "cell_type": "code",
   "execution_count": null,
   "id": "ec1030bb",
   "metadata": {},
   "outputs": [],
   "source": []
  },
  {
   "cell_type": "code",
   "execution_count": null,
   "id": "7a64c391",
   "metadata": {},
   "outputs": [],
   "source": []
  },
  {
   "cell_type": "code",
   "execution_count": null,
   "id": "9e9332df",
   "metadata": {},
   "outputs": [],
   "source": []
  }
 ],
 "metadata": {
  "kernelspec": {
   "display_name": "Python 3",
   "language": "python",
   "name": "python3"
  },
  "language_info": {
   "codemirror_mode": {
    "name": "ipython",
    "version": 3
   },
   "file_extension": ".py",
   "mimetype": "text/x-python",
   "name": "python",
   "nbconvert_exporter": "python",
   "pygments_lexer": "ipython3",
   "version": "3.10.12"
  }
 },
 "nbformat": 4,
 "nbformat_minor": 5
}
